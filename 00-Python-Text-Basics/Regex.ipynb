{
 "cells": [
  {
   "cell_type": "code",
   "execution_count": 1,
   "id": "640629ec",
   "metadata": {
    "ExecuteTime": {
     "end_time": "2021-12-15T18:26:34.304655Z",
     "start_time": "2021-12-15T18:26:34.301120Z"
    }
   },
   "outputs": [],
   "source": [
    "text =\"The phone number of the agent is 408-555-1234. Call Soon!\""
   ]
  },
  {
   "cell_type": "code",
   "execution_count": 3,
   "id": "95d5453c",
   "metadata": {
    "ExecuteTime": {
     "end_time": "2021-12-15T18:27:04.707720Z",
     "start_time": "2021-12-15T18:27:04.700571Z"
    }
   },
   "outputs": [
    {
     "data": {
      "text/plain": [
       "True"
      ]
     },
     "execution_count": 3,
     "metadata": {},
     "output_type": "execute_result"
    }
   ],
   "source": [
    "\"phone\" in text"
   ]
  },
  {
   "cell_type": "code",
   "execution_count": 4,
   "id": "3c39f523",
   "metadata": {
    "ExecuteTime": {
     "end_time": "2021-12-15T18:27:21.221143Z",
     "start_time": "2021-12-15T18:27:21.212044Z"
    }
   },
   "outputs": [
    {
     "data": {
      "text/plain": [
       "True"
      ]
     },
     "execution_count": 4,
     "metadata": {},
     "output_type": "execute_result"
    }
   ],
   "source": [
    "\"408-555-1234\" in text"
   ]
  },
  {
   "cell_type": "code",
   "execution_count": 5,
   "id": "14d131b0",
   "metadata": {
    "ExecuteTime": {
     "end_time": "2021-12-15T18:27:28.482664Z",
     "start_time": "2021-12-15T18:27:28.475448Z"
    }
   },
   "outputs": [],
   "source": [
    "import re"
   ]
  },
  {
   "cell_type": "code",
   "execution_count": 6,
   "id": "f0deee5f",
   "metadata": {
    "ExecuteTime": {
     "end_time": "2021-12-15T18:27:39.301841Z",
     "start_time": "2021-12-15T18:27:39.297582Z"
    }
   },
   "outputs": [],
   "source": [
    "pattern = \"phone\""
   ]
  },
  {
   "cell_type": "code",
   "execution_count": 7,
   "id": "18fa7904",
   "metadata": {
    "ExecuteTime": {
     "end_time": "2021-12-15T18:27:55.166964Z",
     "start_time": "2021-12-15T18:27:55.152780Z"
    }
   },
   "outputs": [
    {
     "data": {
      "text/plain": [
       "<re.Match object; span=(4, 9), match='phone'>"
      ]
     },
     "execution_count": 7,
     "metadata": {},
     "output_type": "execute_result"
    }
   ],
   "source": [
    "re.search(pattern,text)"
   ]
  },
  {
   "cell_type": "code",
   "execution_count": 8,
   "id": "c40e68a8",
   "metadata": {
    "ExecuteTime": {
     "end_time": "2021-12-15T18:28:35.292397Z",
     "start_time": "2021-12-15T18:28:35.287625Z"
    }
   },
   "outputs": [],
   "source": [
    "my_match = re.search(pattern,text)"
   ]
  },
  {
   "cell_type": "code",
   "execution_count": 9,
   "id": "a9af748b",
   "metadata": {
    "ExecuteTime": {
     "end_time": "2021-12-15T18:28:41.827290Z",
     "start_time": "2021-12-15T18:28:41.818158Z"
    }
   },
   "outputs": [
    {
     "data": {
      "text/plain": [
       "(4, 9)"
      ]
     },
     "execution_count": 9,
     "metadata": {},
     "output_type": "execute_result"
    }
   ],
   "source": [
    "my_match.span()"
   ]
  },
  {
   "cell_type": "code",
   "execution_count": 11,
   "id": "7cf8ce79",
   "metadata": {
    "ExecuteTime": {
     "end_time": "2021-12-15T18:29:20.268550Z",
     "start_time": "2021-12-15T18:29:20.262442Z"
    }
   },
   "outputs": [],
   "source": [
    "text = \"my phone is a new phone\""
   ]
  },
  {
   "cell_type": "code",
   "execution_count": 12,
   "id": "4b345428",
   "metadata": {
    "ExecuteTime": {
     "end_time": "2021-12-15T18:29:51.443479Z",
     "start_time": "2021-12-15T18:29:51.409946Z"
    }
   },
   "outputs": [],
   "source": [
    "my_match = re.search(\"phone\",text)"
   ]
  },
  {
   "cell_type": "code",
   "execution_count": 14,
   "id": "6e737407",
   "metadata": {
    "ExecuteTime": {
     "end_time": "2021-12-15T18:30:27.202570Z",
     "start_time": "2021-12-15T18:30:27.198538Z"
    }
   },
   "outputs": [],
   "source": [
    "all_matches = re.findall(\"phone\",text)"
   ]
  },
  {
   "cell_type": "code",
   "execution_count": 15,
   "id": "f29a1ad3",
   "metadata": {
    "ExecuteTime": {
     "end_time": "2021-12-15T18:30:32.054748Z",
     "start_time": "2021-12-15T18:30:32.047266Z"
    }
   },
   "outputs": [
    {
     "data": {
      "text/plain": [
       "['phone', 'phone']"
      ]
     },
     "execution_count": 15,
     "metadata": {},
     "output_type": "execute_result"
    }
   ],
   "source": [
    "all_matches"
   ]
  },
  {
   "cell_type": "code",
   "execution_count": 16,
   "id": "97c488f3",
   "metadata": {
    "ExecuteTime": {
     "end_time": "2021-12-15T18:31:26.408042Z",
     "start_time": "2021-12-15T18:31:26.400488Z"
    }
   },
   "outputs": [
    {
     "name": "stdout",
     "output_type": "stream",
     "text": [
      "(3, 8)\n",
      "(18, 23)\n"
     ]
    }
   ],
   "source": [
    "for match in re.finditer(\"phone\",text):\n",
    "    print(match.span())"
   ]
  },
  {
   "cell_type": "code",
   "execution_count": 17,
   "id": "5a721277",
   "metadata": {
    "ExecuteTime": {
     "end_time": "2021-12-15T19:51:41.680961Z",
     "start_time": "2021-12-15T19:51:41.674209Z"
    }
   },
   "outputs": [],
   "source": [
    "text = \"My telephone number is 404-464-6459\""
   ]
  },
  {
   "cell_type": "code",
   "execution_count": 18,
   "id": "862be14e",
   "metadata": {
    "ExecuteTime": {
     "end_time": "2021-12-15T19:51:48.764753Z",
     "start_time": "2021-12-15T19:51:48.661949Z"
    }
   },
   "outputs": [
    {
     "data": {
      "text/plain": [
       "'My telephone number is 404-464-6459'"
      ]
     },
     "execution_count": 18,
     "metadata": {},
     "output_type": "execute_result"
    }
   ],
   "source": [
    "text"
   ]
  },
  {
   "cell_type": "code",
   "execution_count": 19,
   "id": "69c77c42",
   "metadata": {
    "ExecuteTime": {
     "end_time": "2021-12-15T19:52:41.627025Z",
     "start_time": "2021-12-15T19:52:41.622456Z"
    }
   },
   "outputs": [],
   "source": [
    "pattern = r\"\\d\\d\\d-\\d\\d\\d-\\d\\d\\d\\d\""
   ]
  },
  {
   "cell_type": "code",
   "execution_count": 20,
   "id": "a65280d4",
   "metadata": {
    "ExecuteTime": {
     "end_time": "2021-12-15T19:53:32.975556Z",
     "start_time": "2021-12-15T19:53:32.968232Z"
    }
   },
   "outputs": [
    {
     "data": {
      "text/plain": [
       "<re.Match object; span=(23, 35), match='404-464-6459'>"
      ]
     },
     "execution_count": 20,
     "metadata": {},
     "output_type": "execute_result"
    }
   ],
   "source": [
    "phoneno = re.search(pattern,text)\n",
    "phoneno"
   ]
  },
  {
   "cell_type": "code",
   "execution_count": 21,
   "id": "7d31171e",
   "metadata": {
    "ExecuteTime": {
     "end_time": "2021-12-15T19:54:15.546646Z",
     "start_time": "2021-12-15T19:54:15.536273Z"
    }
   },
   "outputs": [
    {
     "data": {
      "text/plain": [
       "'404-464-6459'"
      ]
     },
     "execution_count": 21,
     "metadata": {},
     "output_type": "execute_result"
    }
   ],
   "source": [
    "phoneno.group()"
   ]
  },
  {
   "cell_type": "markdown",
   "id": "ee9eef8f",
   "metadata": {},
   "source": [
    "__Quantifiers__"
   ]
  },
  {
   "cell_type": "code",
   "execution_count": 22,
   "id": "ee62a507",
   "metadata": {
    "ExecuteTime": {
     "end_time": "2021-12-15T19:56:36.944796Z",
     "start_time": "2021-12-15T19:56:36.933999Z"
    }
   },
   "outputs": [],
   "source": [
    "pattern = r\"\\d{3}-\\d{3}-\\d{4}\""
   ]
  },
  {
   "cell_type": "code",
   "execution_count": 24,
   "id": "d4a346bc",
   "metadata": {
    "ExecuteTime": {
     "end_time": "2021-12-15T19:57:32.264310Z",
     "start_time": "2021-12-15T19:57:32.252933Z"
    }
   },
   "outputs": [
    {
     "data": {
      "text/plain": [
       "'404-464-6459'"
      ]
     },
     "execution_count": 24,
     "metadata": {},
     "output_type": "execute_result"
    }
   ],
   "source": [
    "re.search(pattern,text).group()"
   ]
  },
  {
   "cell_type": "code",
   "execution_count": 25,
   "id": "cfc6ea7f",
   "metadata": {
    "ExecuteTime": {
     "end_time": "2021-12-15T20:00:22.308906Z",
     "start_time": "2021-12-15T20:00:22.304856Z"
    }
   },
   "outputs": [],
   "source": [
    "pattern = r\"(\\d{3})-(\\d{3})-(\\d{4})\""
   ]
  },
  {
   "cell_type": "code",
   "execution_count": 26,
   "id": "15392978",
   "metadata": {
    "ExecuteTime": {
     "end_time": "2021-12-15T20:00:46.139916Z",
     "start_time": "2021-12-15T20:00:46.135178Z"
    }
   },
   "outputs": [],
   "source": [
    "my_match = re.search(pattern,text)"
   ]
  },
  {
   "cell_type": "code",
   "execution_count": 27,
   "id": "b3397fbe",
   "metadata": {
    "ExecuteTime": {
     "end_time": "2021-12-15T20:00:51.938665Z",
     "start_time": "2021-12-15T20:00:51.931297Z"
    }
   },
   "outputs": [
    {
     "data": {
      "text/plain": [
       "'404-464-6459'"
      ]
     },
     "execution_count": 27,
     "metadata": {},
     "output_type": "execute_result"
    }
   ],
   "source": [
    "my_match.group()"
   ]
  },
  {
   "cell_type": "code",
   "execution_count": 28,
   "id": "bf5b8077",
   "metadata": {
    "ExecuteTime": {
     "end_time": "2021-12-15T20:01:26.472760Z",
     "start_time": "2021-12-15T20:01:26.466718Z"
    }
   },
   "outputs": [
    {
     "name": "stdout",
     "output_type": "stream",
     "text": [
      "4\n",
      "0\n",
      "4\n",
      "-\n",
      "4\n",
      "6\n",
      "4\n",
      "-\n",
      "6\n",
      "4\n",
      "5\n",
      "9\n"
     ]
    }
   ],
   "source": [
    "for match in my_match.group():\n",
    "    print(match)"
   ]
  },
  {
   "cell_type": "markdown",
   "id": "564a9aa6",
   "metadata": {},
   "source": [
    "__Pipe operator__"
   ]
  },
  {
   "cell_type": "code",
   "execution_count": 29,
   "id": "279a531e",
   "metadata": {
    "ExecuteTime": {
     "end_time": "2021-12-15T20:03:16.059967Z",
     "start_time": "2021-12-15T20:03:16.052517Z"
    }
   },
   "outputs": [
    {
     "data": {
      "text/plain": [
       "<re.Match object; span=(5, 8), match='man'>"
      ]
     },
     "execution_count": 29,
     "metadata": {},
     "output_type": "execute_result"
    }
   ],
   "source": [
    "re.search(r\"man|woman\",\"This man was here\")"
   ]
  },
  {
   "cell_type": "markdown",
   "id": "6320f75a",
   "metadata": {},
   "source": [
    "__Wild card__"
   ]
  },
  {
   "cell_type": "code",
   "execution_count": 36,
   "id": "ea0817aa",
   "metadata": {
    "ExecuteTime": {
     "end_time": "2021-12-15T20:08:25.872970Z",
     "start_time": "2021-12-15T20:08:25.851316Z"
    }
   },
   "outputs": [
    {
     "data": {
      "text/plain": [
       "['cat', 'sat', 'mat', 'bat', 'kat']"
      ]
     },
     "execution_count": 36,
     "metadata": {},
     "output_type": "execute_result"
    }
   ],
   "source": [
    "re.findall(\".at\",\"The cat sat on the mat close to the bat brought y lkat\")"
   ]
  },
  {
   "cell_type": "code",
   "execution_count": 35,
   "id": "34fde65b",
   "metadata": {
    "ExecuteTime": {
     "end_time": "2021-12-15T20:08:21.380798Z",
     "start_time": "2021-12-15T20:08:21.372511Z"
    }
   },
   "outputs": [
    {
     "data": {
      "text/plain": [
       "[' cat', ' sat', ' mat', ' bat', 'lkat']"
      ]
     },
     "execution_count": 35,
     "metadata": {},
     "output_type": "execute_result"
    }
   ],
   "source": [
    "re.findall(\"..at\",\"The cat sat on the mat close to the bat brought y lkat\")"
   ]
  },
  {
   "cell_type": "code",
   "execution_count": 37,
   "id": "05746d96",
   "metadata": {
    "ExecuteTime": {
     "end_time": "2021-12-15T20:09:48.197169Z",
     "start_time": "2021-12-15T20:09:48.187985Z"
    }
   },
   "outputs": [
    {
     "data": {
      "text/plain": [
       "['1']"
      ]
     },
     "execution_count": 37,
     "metadata": {},
     "output_type": "execute_result"
    }
   ],
   "source": [
    "re.findall(r\"^\\d\",\"1 is the lonliest number\")"
   ]
  },
  {
   "cell_type": "code",
   "execution_count": 38,
   "id": "e470d874",
   "metadata": {
    "ExecuteTime": {
     "end_time": "2021-12-15T20:10:43.340333Z",
     "start_time": "2021-12-15T20:10:43.333347Z"
    }
   },
   "outputs": [
    {
     "data": {
      "text/plain": [
       "['2']"
      ]
     },
     "execution_count": 38,
     "metadata": {},
     "output_type": "execute_result"
    }
   ],
   "source": [
    "re.findall(r\"\\d$\",\"This number ends with 2\")"
   ]
  },
  {
   "cell_type": "code",
   "execution_count": 39,
   "id": "1aedbd48",
   "metadata": {
    "ExecuteTime": {
     "end_time": "2021-12-15T20:11:16.667666Z",
     "start_time": "2021-12-15T20:11:16.663527Z"
    }
   },
   "outputs": [],
   "source": [
    "Phrase = \"There are 3 numbers 34 inside this 5 sentences\""
   ]
  },
  {
   "cell_type": "code",
   "execution_count": 40,
   "id": "603ef4d8",
   "metadata": {
    "ExecuteTime": {
     "end_time": "2021-12-15T20:12:08.855447Z",
     "start_time": "2021-12-15T20:12:08.847596Z"
    }
   },
   "outputs": [
    {
     "data": {
      "text/plain": [
       "['T',\n",
       " 'h',\n",
       " 'e',\n",
       " 'r',\n",
       " 'e',\n",
       " ' ',\n",
       " 'a',\n",
       " 'r',\n",
       " 'e',\n",
       " ' ',\n",
       " ' ',\n",
       " 'n',\n",
       " 'u',\n",
       " 'm',\n",
       " 'b',\n",
       " 'e',\n",
       " 'r',\n",
       " 's',\n",
       " ' ',\n",
       " ' ',\n",
       " 'i',\n",
       " 'n',\n",
       " 's',\n",
       " 'i',\n",
       " 'd',\n",
       " 'e',\n",
       " ' ',\n",
       " 't',\n",
       " 'h',\n",
       " 'i',\n",
       " 's',\n",
       " ' ',\n",
       " ' ',\n",
       " 's',\n",
       " 'e',\n",
       " 'n',\n",
       " 't',\n",
       " 'e',\n",
       " 'n',\n",
       " 'c',\n",
       " 'e',\n",
       " 's']"
      ]
     },
     "execution_count": 40,
     "metadata": {},
     "output_type": "execute_result"
    }
   ],
   "source": [
    "re.findall(r\"[^\\d]\",Phrase)"
   ]
  },
  {
   "cell_type": "code",
   "execution_count": 41,
   "id": "37c4d999",
   "metadata": {
    "ExecuteTime": {
     "end_time": "2021-12-15T20:12:59.323447Z",
     "start_time": "2021-12-15T20:12:59.316320Z"
    }
   },
   "outputs": [
    {
     "data": {
      "text/plain": [
       "['There are ', ' numbers ', ' inside this ', ' sentences']"
      ]
     },
     "execution_count": 41,
     "metadata": {},
     "output_type": "execute_result"
    }
   ],
   "source": [
    "re.findall(r\"[^\\d]+\",Phrase)"
   ]
  },
  {
   "cell_type": "code",
   "execution_count": 42,
   "id": "c3952685",
   "metadata": {
    "ExecuteTime": {
     "end_time": "2021-12-15T20:14:49.274650Z",
     "start_time": "2021-12-15T20:14:49.271092Z"
    }
   },
   "outputs": [],
   "source": [
    "text = \"This is a string! but it has punctuation. How to remove it?\""
   ]
  },
  {
   "cell_type": "code",
   "execution_count": 45,
   "id": "abc75a70",
   "metadata": {
    "ExecuteTime": {
     "end_time": "2021-12-15T20:23:12.237338Z",
     "start_time": "2021-12-15T20:23:12.230188Z"
    }
   },
   "outputs": [],
   "source": [
    "my_list = re.findall(r\"[^!.? ]+\",text)"
   ]
  },
  {
   "cell_type": "code",
   "execution_count": 46,
   "id": "d1d58a6a",
   "metadata": {
    "ExecuteTime": {
     "end_time": "2021-12-15T20:23:24.864481Z",
     "start_time": "2021-12-15T20:23:24.857602Z"
    }
   },
   "outputs": [
    {
     "data": {
      "text/plain": [
       "['This',\n",
       " 'is',\n",
       " 'a',\n",
       " 'string',\n",
       " 'but',\n",
       " 'it',\n",
       " 'has',\n",
       " 'punctuation',\n",
       " 'How',\n",
       " 'to',\n",
       " 'remove',\n",
       " 'it']"
      ]
     },
     "execution_count": 46,
     "metadata": {},
     "output_type": "execute_result"
    }
   ],
   "source": [
    "my_list"
   ]
  },
  {
   "cell_type": "code",
   "execution_count": 48,
   "id": "0b7bd818",
   "metadata": {
    "ExecuteTime": {
     "end_time": "2021-12-15T20:23:54.542673Z",
     "start_time": "2021-12-15T20:23:54.535636Z"
    }
   },
   "outputs": [
    {
     "data": {
      "text/plain": [
       "'This is a string but it has punctuation How to remove it'"
      ]
     },
     "execution_count": 48,
     "metadata": {},
     "output_type": "execute_result"
    }
   ],
   "source": [
    "\" \".join(my_list)"
   ]
  },
  {
   "cell_type": "code",
   "execution_count": 50,
   "id": "0dd2b41d",
   "metadata": {
    "ExecuteTime": {
     "end_time": "2021-12-15T20:30:38.520446Z",
     "start_time": "2021-12-15T20:30:38.517462Z"
    }
   },
   "outputs": [],
   "source": [
    "text = \"Only find the hyphen-nated words, where are the long-ish words?\""
   ]
  },
  {
   "cell_type": "code",
   "execution_count": 51,
   "id": "5fa81162",
   "metadata": {
    "ExecuteTime": {
     "end_time": "2021-12-15T20:32:09.236826Z",
     "start_time": "2021-12-15T20:32:09.229634Z"
    }
   },
   "outputs": [
    {
     "data": {
      "text/plain": [
       "['hyphen-nated', 'long-ish']"
      ]
     },
     "execution_count": 51,
     "metadata": {},
     "output_type": "execute_result"
    }
   ],
   "source": [
    "re.findall(r\"[\\w]+-[\\w]+\",text)"
   ]
  },
  {
   "cell_type": "code",
   "execution_count": null,
   "id": "c1943dcd",
   "metadata": {},
   "outputs": [],
   "source": []
  }
 ],
 "metadata": {
  "hide_input": false,
  "kernelspec": {
   "display_name": "Python 3 (ipykernel)",
   "language": "python",
   "name": "python3"
  },
  "language_info": {
   "codemirror_mode": {
    "name": "ipython",
    "version": 3
   },
   "file_extension": ".py",
   "mimetype": "text/x-python",
   "name": "python",
   "nbconvert_exporter": "python",
   "pygments_lexer": "ipython3",
   "version": "3.7.4"
  },
  "toc": {
   "base_numbering": 1,
   "nav_menu": {},
   "number_sections": true,
   "sideBar": true,
   "skip_h1_title": false,
   "title_cell": "Table of Contents",
   "title_sidebar": "Contents",
   "toc_cell": false,
   "toc_position": {},
   "toc_section_display": true,
   "toc_window_display": false
  },
  "varInspector": {
   "cols": {
    "lenName": 16,
    "lenType": 16,
    "lenVar": 40
   },
   "kernels_config": {
    "python": {
     "delete_cmd_postfix": "",
     "delete_cmd_prefix": "del ",
     "library": "var_list.py",
     "varRefreshCmd": "print(var_dic_list())"
    },
    "r": {
     "delete_cmd_postfix": ") ",
     "delete_cmd_prefix": "rm(",
     "library": "var_list.r",
     "varRefreshCmd": "cat(var_dic_list()) "
    }
   },
   "types_to_exclude": [
    "module",
    "function",
    "builtin_function_or_method",
    "instance",
    "_Feature"
   ],
   "window_display": false
  }
 },
 "nbformat": 4,
 "nbformat_minor": 5
}
